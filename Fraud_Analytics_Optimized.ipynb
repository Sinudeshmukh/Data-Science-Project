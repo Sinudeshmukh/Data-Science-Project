{
  "nbformat": 4,
  "nbformat_minor": 0,
  "metadata": {
    "accelerator": "GPU",
    "colab": {
      "name": "Fraud_Analytics_Optimized.ipynb",
      "provenance": [],
      "collapsed_sections": [
        "ArF_wcAbpI2_"
      ],
      "include_colab_link": true
    },
    "kernelspec": {
      "display_name": "Python 3",
      "language": "python",
      "name": "python3"
    },
    "language_info": {
      "codemirror_mode": {
        "name": "ipython",
        "version": 3
      },
      "file_extension": ".py",
      "mimetype": "text/x-python",
      "name": "python",
      "nbconvert_exporter": "python",
      "pygments_lexer": "ipython3",
      "version": "3.8.5"
    }
  },
  "cells": [
    {
      "cell_type": "markdown",
      "metadata": {
        "id": "view-in-github",
        "colab_type": "text"
      },
      "source": [
        "<a href=\"https://colab.research.google.com/github/Sinudeshmukh/Data-Science-Project/blob/main/Fraud_Analytics_Optimized.ipynb\" target=\"_parent\"><img src=\"https://colab.research.google.com/assets/colab-badge.svg\" alt=\"Open In Colab\"/></a>"
      ]
    },
    {
      "cell_type": "markdown",
      "metadata": {
        "id": "vJWIovXC3voL"
      },
      "source": [
        "### Importing Libraries"
      ]
    },
    {
      "cell_type": "code",
      "metadata": {
        "id": "qCGzMk353voQ"
      },
      "source": [
        "import numpy as np \n",
        "import pandas as pd\n",
        "\n",
        "import matplotlib.pyplot as plt\n",
        "import seaborn as sns\n",
        "\n",
        "import warnings\n",
        "warnings.filterwarnings('ignore')\n",
        "\n",
        "from sklearn.preprocessing import LabelEncoder\n",
        "from sklearn.model_selection import train_test_split, cross_val_score\n",
        "from sklearn.preprocessing import StandardScaler\n",
        "from sklearn.metrics import classification_report, confusion_matrix\n",
        "from sklearn.metrics import roc_curve,roc_auc_score\n",
        "from sklearn.metrics import accuracy_score\n",
        "from sklearn.ensemble import IsolationForest\n",
        "\n",
        "from sklearn.metrics import classification_report\n",
        "from sklearn.model_selection import StratifiedKFold\n",
        "from sklearn.model_selection import GridSearchCV\n",
        "from scipy.stats import randint\n",
        "\n",
        "from imblearn.combine import SMOTETomek\n",
        "from imblearn.combine import SMOTEENN\n",
        "\n",
        "from sklearn.linear_model import LogisticRegression\n",
        "from sklearn.neighbors import KNeighborsClassifier\n",
        "from sklearn.svm import SVC\n",
        "from sklearn.tree import DecisionTreeClassifier\n",
        "from sklearn.ensemble import BaggingClassifier\n",
        "from sklearn.ensemble import AdaBoostClassifier\n",
        "from sklearn.ensemble import RandomForestClassifier\n",
        "\n",
        "from xgboost import XGBClassifier"
      ],
      "execution_count": 31,
      "outputs": []
    },
    {
      "cell_type": "markdown",
      "metadata": {
        "id": "cRUqR9Zb3voU"
      },
      "source": [
        "### Dataset loading"
      ]
    },
    {
      "cell_type": "code",
      "metadata": {
        "colab": {
          "base_uri": "https://localhost:8080/"
        },
        "id": "AKqdDELQ4gdz",
        "outputId": "837921db-d044-46d2-ae68-c5e5ec644d3a"
      },
      "source": [
        "from google.colab import drive\n",
        "drive.mount('/content/drive')"
      ],
      "execution_count": 32,
      "outputs": [
        {
          "output_type": "stream",
          "text": [
            "Drive already mounted at /content/drive; to attempt to forcibly remount, call drive.mount(\"/content/drive\", force_remount=True).\n"
          ],
          "name": "stdout"
        }
      ]
    },
    {
      "cell_type": "code",
      "metadata": {
        "colab": {
          "base_uri": "https://localhost:8080/",
          "height": 445
        },
        "id": "4HWBjkk53voV",
        "outputId": "5cd84308-88df-47b1-ce26-eb54c29326cb"
      },
      "source": [
        "df = pd.read_csv(\"/content/drive/MyDrive/Project Fraud Analytics/Insurance Dataset.csv\")\n",
        "df.head()"
      ],
      "execution_count": 33,
      "outputs": [
        {
          "output_type": "execute_result",
          "data": {
            "text/html": [
              "<div>\n",
              "<style scoped>\n",
              "    .dataframe tbody tr th:only-of-type {\n",
              "        vertical-align: middle;\n",
              "    }\n",
              "\n",
              "    .dataframe tbody tr th {\n",
              "        vertical-align: top;\n",
              "    }\n",
              "\n",
              "    .dataframe thead th {\n",
              "        text-align: right;\n",
              "    }\n",
              "</style>\n",
              "<table border=\"1\" class=\"dataframe\">\n",
              "  <thead>\n",
              "    <tr style=\"text-align: right;\">\n",
              "      <th></th>\n",
              "      <th>Area_Service</th>\n",
              "      <th>Hospital County</th>\n",
              "      <th>Hospital Id</th>\n",
              "      <th>Age</th>\n",
              "      <th>Gender</th>\n",
              "      <th>Cultural_group</th>\n",
              "      <th>ethnicity</th>\n",
              "      <th>Days_spend_hsptl</th>\n",
              "      <th>Admission_type</th>\n",
              "      <th>Home or self care,</th>\n",
              "      <th>ccs_diagnosis_code</th>\n",
              "      <th>ccs_procedure_code</th>\n",
              "      <th>apr_drg_description</th>\n",
              "      <th>Code_illness</th>\n",
              "      <th>Mortality risk</th>\n",
              "      <th>Surg_Description</th>\n",
              "      <th>Weight_baby</th>\n",
              "      <th>Abortion</th>\n",
              "      <th>Emergency dept_yes/No</th>\n",
              "      <th>Tot_charg</th>\n",
              "      <th>Tot_cost</th>\n",
              "      <th>ratio_of_total_costs_to_total_charges</th>\n",
              "      <th>Result</th>\n",
              "      <th>Payment_Typology</th>\n",
              "    </tr>\n",
              "  </thead>\n",
              "  <tbody>\n",
              "    <tr>\n",
              "      <th>0</th>\n",
              "      <td>Western NY</td>\n",
              "      <td>Allegany</td>\n",
              "      <td>37.0</td>\n",
              "      <td>30 to 49</td>\n",
              "      <td>F</td>\n",
              "      <td>White</td>\n",
              "      <td>Not Span/Hispanic</td>\n",
              "      <td>4</td>\n",
              "      <td>Elective</td>\n",
              "      <td>Home or Self Care</td>\n",
              "      <td>122</td>\n",
              "      <td>0</td>\n",
              "      <td>Other pneumonia</td>\n",
              "      <td>1</td>\n",
              "      <td>1.0</td>\n",
              "      <td>Medical</td>\n",
              "      <td>0</td>\n",
              "      <td>N</td>\n",
              "      <td>Y</td>\n",
              "      <td>5511.95</td>\n",
              "      <td>5582.49</td>\n",
              "      <td>1.012798</td>\n",
              "      <td>1</td>\n",
              "      <td>1</td>\n",
              "    </tr>\n",
              "    <tr>\n",
              "      <th>1</th>\n",
              "      <td>Western NY</td>\n",
              "      <td>Allegany</td>\n",
              "      <td>37.0</td>\n",
              "      <td>70 or Older</td>\n",
              "      <td>F</td>\n",
              "      <td>White</td>\n",
              "      <td>Not Span/Hispanic</td>\n",
              "      <td>4</td>\n",
              "      <td>Urgent</td>\n",
              "      <td>Short-term Hospital</td>\n",
              "      <td>197</td>\n",
              "      <td>0</td>\n",
              "      <td>Cellulitis &amp; other skin infections</td>\n",
              "      <td>3</td>\n",
              "      <td>2.0</td>\n",
              "      <td>Medical</td>\n",
              "      <td>0</td>\n",
              "      <td>N</td>\n",
              "      <td>Y</td>\n",
              "      <td>4783.20</td>\n",
              "      <td>5162.82</td>\n",
              "      <td>1.079365</td>\n",
              "      <td>1</td>\n",
              "      <td>1</td>\n",
              "    </tr>\n",
              "    <tr>\n",
              "      <th>2</th>\n",
              "      <td>Western NY</td>\n",
              "      <td>Allegany</td>\n",
              "      <td>37.0</td>\n",
              "      <td>30 to 49</td>\n",
              "      <td>F</td>\n",
              "      <td>White</td>\n",
              "      <td>Not Span/Hispanic</td>\n",
              "      <td>3</td>\n",
              "      <td>Urgent</td>\n",
              "      <td>Home or Self Care</td>\n",
              "      <td>122</td>\n",
              "      <td>0</td>\n",
              "      <td>Other pneumonia</td>\n",
              "      <td>1</td>\n",
              "      <td>1.0</td>\n",
              "      <td>Medical</td>\n",
              "      <td>0</td>\n",
              "      <td>N</td>\n",
              "      <td>Y</td>\n",
              "      <td>3829.15</td>\n",
              "      <td>4056.52</td>\n",
              "      <td>1.059379</td>\n",
              "      <td>1</td>\n",
              "      <td>1</td>\n",
              "    </tr>\n",
              "    <tr>\n",
              "      <th>3</th>\n",
              "      <td>Western NY</td>\n",
              "      <td>Allegany</td>\n",
              "      <td>37.0</td>\n",
              "      <td>0 to 17</td>\n",
              "      <td>F</td>\n",
              "      <td>White</td>\n",
              "      <td>Not Span/Hispanic</td>\n",
              "      <td>1</td>\n",
              "      <td>Urgent</td>\n",
              "      <td>Home or Self Care</td>\n",
              "      <td>122</td>\n",
              "      <td>0</td>\n",
              "      <td>Other pneumonia</td>\n",
              "      <td>1</td>\n",
              "      <td>1.0</td>\n",
              "      <td>Medical</td>\n",
              "      <td>0</td>\n",
              "      <td>N</td>\n",
              "      <td>Y</td>\n",
              "      <td>1108.20</td>\n",
              "      <td>1644.75</td>\n",
              "      <td>1.484167</td>\n",
              "      <td>0</td>\n",
              "      <td>1</td>\n",
              "    </tr>\n",
              "    <tr>\n",
              "      <th>4</th>\n",
              "      <td>Western NY</td>\n",
              "      <td>Allegany</td>\n",
              "      <td>37.0</td>\n",
              "      <td>70 or Older</td>\n",
              "      <td>F</td>\n",
              "      <td>White</td>\n",
              "      <td>Not Span/Hispanic</td>\n",
              "      <td>3</td>\n",
              "      <td>Elective</td>\n",
              "      <td>Home or Self Care</td>\n",
              "      <td>122</td>\n",
              "      <td>0</td>\n",
              "      <td>Other pneumonia</td>\n",
              "      <td>2</td>\n",
              "      <td>3.0</td>\n",
              "      <td>Medical</td>\n",
              "      <td>0</td>\n",
              "      <td>N</td>\n",
              "      <td>Y</td>\n",
              "      <td>3418.18</td>\n",
              "      <td>3370.87</td>\n",
              "      <td>0.986161</td>\n",
              "      <td>1</td>\n",
              "      <td>1</td>\n",
              "    </tr>\n",
              "  </tbody>\n",
              "</table>\n",
              "</div>"
            ],
            "text/plain": [
              "  Area_Service Hospital County  ...  Result Payment_Typology\n",
              "0   Western NY        Allegany  ...       1                1\n",
              "1   Western NY        Allegany  ...       1                1\n",
              "2   Western NY        Allegany  ...       1                1\n",
              "3   Western NY        Allegany  ...       0                1\n",
              "4   Western NY        Allegany  ...       1                1\n",
              "\n",
              "[5 rows x 24 columns]"
            ]
          },
          "metadata": {
            "tags": []
          },
          "execution_count": 33
        }
      ]
    },
    {
      "cell_type": "code",
      "metadata": {
        "colab": {
          "base_uri": "https://localhost:8080/"
        },
        "id": "HfKv6BRKRuxh",
        "outputId": "3671b413-33d1-4065-f8fb-750d868239fc"
      },
      "source": [
        "df.columns"
      ],
      "execution_count": 34,
      "outputs": [
        {
          "output_type": "execute_result",
          "data": {
            "text/plain": [
              "Index(['Area_Service', 'Hospital County', 'Hospital Id', 'Age', 'Gender',\n",
              "       'Cultural_group', 'ethnicity', 'Days_spend_hsptl', 'Admission_type',\n",
              "       'Home or self care,', 'ccs_diagnosis_code', 'ccs_procedure_code',\n",
              "       'apr_drg_description', 'Code_illness', 'Mortality risk',\n",
              "       'Surg_Description', 'Weight_baby', 'Abortion', 'Emergency dept_yes/No',\n",
              "       'Tot_charg', 'Tot_cost', 'ratio_of_total_costs_to_total_charges',\n",
              "       'Result', 'Payment_Typology'],\n",
              "      dtype='object')"
            ]
          },
          "metadata": {
            "tags": []
          },
          "execution_count": 34
        }
      ]
    },
    {
      "cell_type": "code",
      "metadata": {
        "colab": {
          "base_uri": "https://localhost:8080/"
        },
        "id": "XKTZLtFmRxwK",
        "outputId": "f4384506-de53-4a7c-ed27-c00b630d120d"
      },
      "source": [
        "df.info()"
      ],
      "execution_count": 35,
      "outputs": [
        {
          "output_type": "stream",
          "text": [
            "<class 'pandas.core.frame.DataFrame'>\n",
            "RangeIndex: 1048575 entries, 0 to 1048574\n",
            "Data columns (total 24 columns):\n",
            " #   Column                                 Non-Null Count    Dtype  \n",
            "---  ------                                 --------------    -----  \n",
            " 0   Area_Service                           1046119 non-null  object \n",
            " 1   Hospital County                        1046119 non-null  object \n",
            " 2   Hospital Id                            1046119 non-null  float64\n",
            " 3   Age                                    1048575 non-null  object \n",
            " 4   Gender                                 1048575 non-null  object \n",
            " 5   Cultural_group                         1048575 non-null  object \n",
            " 6   ethnicity                              1048575 non-null  object \n",
            " 7   Days_spend_hsptl                       1048575 non-null  object \n",
            " 8   Admission_type                         1048575 non-null  object \n",
            " 9   Home or self care,                     1048575 non-null  object \n",
            " 10  ccs_diagnosis_code                     1048575 non-null  int64  \n",
            " 11  ccs_procedure_code                     1048575 non-null  int64  \n",
            " 12  apr_drg_description                    1048575 non-null  object \n",
            " 13  Code_illness                           1048575 non-null  int64  \n",
            " 14  Mortality risk                         1048533 non-null  float64\n",
            " 15  Surg_Description                       1048575 non-null  object \n",
            " 16  Weight_baby                            1048575 non-null  int64  \n",
            " 17  Abortion                               1048575 non-null  object \n",
            " 18  Emergency dept_yes/No                  1048575 non-null  object \n",
            " 19  Tot_charg                              1048575 non-null  float64\n",
            " 20  Tot_cost                               1048575 non-null  float64\n",
            " 21  ratio_of_total_costs_to_total_charges  1048575 non-null  float64\n",
            " 22  Result                                 1048575 non-null  int64  \n",
            " 23  Payment_Typology                       1048575 non-null  int64  \n",
            "dtypes: float64(5), int64(6), object(13)\n",
            "memory usage: 192.0+ MB\n"
          ],
          "name": "stdout"
        }
      ]
    },
    {
      "cell_type": "code",
      "metadata": {
        "colab": {
          "base_uri": "https://localhost:8080/"
        },
        "id": "LDEdbYKsSB6Z",
        "outputId": "5dc6539e-2b03-4283-9bc2-81165eee894a"
      },
      "source": [
        "df.shape"
      ],
      "execution_count": 36,
      "outputs": [
        {
          "output_type": "execute_result",
          "data": {
            "text/plain": [
              "(1048575, 24)"
            ]
          },
          "metadata": {
            "tags": []
          },
          "execution_count": 36
        }
      ]
    },
    {
      "cell_type": "markdown",
      "metadata": {
        "id": "ioUIOZK93voX"
      },
      "source": [
        "### Data Preprocessing"
      ]
    },
    {
      "cell_type": "markdown",
      "metadata": {
        "id": "rR2xZUcM3voY"
      },
      "source": [
        "#### 1. Drop Duplicates "
      ]
    },
    {
      "cell_type": "code",
      "metadata": {
        "colab": {
          "base_uri": "https://localhost:8080/",
          "height": 334
        },
        "id": "n1nakEO73voY",
        "outputId": "c0136fe9-4b7f-46b1-adc7-ad07c507f9c1"
      },
      "source": [
        "df.drop_duplicates(inplace=True,ignore_index=True)\n",
        "df.describe().apply(lambda s: s.apply('{0:.1f}'.format))"
      ],
      "execution_count": 37,
      "outputs": [
        {
          "output_type": "execute_result",
          "data": {
            "text/html": [
              "<div>\n",
              "<style scoped>\n",
              "    .dataframe tbody tr th:only-of-type {\n",
              "        vertical-align: middle;\n",
              "    }\n",
              "\n",
              "    .dataframe tbody tr th {\n",
              "        vertical-align: top;\n",
              "    }\n",
              "\n",
              "    .dataframe thead th {\n",
              "        text-align: right;\n",
              "    }\n",
              "</style>\n",
              "<table border=\"1\" class=\"dataframe\">\n",
              "  <thead>\n",
              "    <tr style=\"text-align: right;\">\n",
              "      <th></th>\n",
              "      <th>Hospital Id</th>\n",
              "      <th>ccs_diagnosis_code</th>\n",
              "      <th>ccs_procedure_code</th>\n",
              "      <th>Code_illness</th>\n",
              "      <th>Mortality risk</th>\n",
              "      <th>Weight_baby</th>\n",
              "      <th>Tot_charg</th>\n",
              "      <th>Tot_cost</th>\n",
              "      <th>ratio_of_total_costs_to_total_charges</th>\n",
              "      <th>Result</th>\n",
              "      <th>Payment_Typology</th>\n",
              "    </tr>\n",
              "  </thead>\n",
              "  <tbody>\n",
              "    <tr>\n",
              "      <th>count</th>\n",
              "      <td>1041306.0</td>\n",
              "      <td>1043761.0</td>\n",
              "      <td>1043761.0</td>\n",
              "      <td>1043761.0</td>\n",
              "      <td>1043720.0</td>\n",
              "      <td>1043761.0</td>\n",
              "      <td>1043761.0</td>\n",
              "      <td>1043761.0</td>\n",
              "      <td>1043761.0</td>\n",
              "      <td>1043761.0</td>\n",
              "      <td>1043761.0</td>\n",
              "    </tr>\n",
              "    <tr>\n",
              "      <th>mean</th>\n",
              "      <td>652.5</td>\n",
              "      <td>198.6</td>\n",
              "      <td>97.1</td>\n",
              "      <td>2.1</td>\n",
              "      <td>1.8</td>\n",
              "      <td>282.0</td>\n",
              "      <td>27190.1</td>\n",
              "      <td>10501.2</td>\n",
              "      <td>0.5</td>\n",
              "      <td>0.7</td>\n",
              "      <td>1.9</td>\n",
              "    </tr>\n",
              "    <tr>\n",
              "      <th>std</th>\n",
              "      <td>669.6</td>\n",
              "      <td>165.5</td>\n",
              "      <td>87.3</td>\n",
              "      <td>0.9</td>\n",
              "      <td>1.0</td>\n",
              "      <td>932.3</td>\n",
              "      <td>54976.5</td>\n",
              "      <td>22345.9</td>\n",
              "      <td>0.8</td>\n",
              "      <td>0.4</td>\n",
              "      <td>0.8</td>\n",
              "    </tr>\n",
              "    <tr>\n",
              "      <th>min</th>\n",
              "      <td>1.0</td>\n",
              "      <td>1.0</td>\n",
              "      <td>0.0</td>\n",
              "      <td>0.0</td>\n",
              "      <td>1.0</td>\n",
              "      <td>0.0</td>\n",
              "      <td>0.3</td>\n",
              "      <td>0.1</td>\n",
              "      <td>0.0</td>\n",
              "      <td>0.0</td>\n",
              "      <td>1.0</td>\n",
              "    </tr>\n",
              "    <tr>\n",
              "      <th>25%</th>\n",
              "      <td>213.0</td>\n",
              "      <td>108.0</td>\n",
              "      <td>0.0</td>\n",
              "      <td>1.0</td>\n",
              "      <td>1.0</td>\n",
              "      <td>0.0</td>\n",
              "      <td>7473.6</td>\n",
              "      <td>3262.2</td>\n",
              "      <td>0.3</td>\n",
              "      <td>0.0</td>\n",
              "      <td>1.0</td>\n",
              "    </tr>\n",
              "    <tr>\n",
              "      <th>50%</th>\n",
              "      <td>630.0</td>\n",
              "      <td>159.0</td>\n",
              "      <td>88.0</td>\n",
              "      <td>2.0</td>\n",
              "      <td>1.0</td>\n",
              "      <td>0.0</td>\n",
              "      <td>14669.2</td>\n",
              "      <td>5955.4</td>\n",
              "      <td>0.4</td>\n",
              "      <td>1.0</td>\n",
              "      <td>2.0</td>\n",
              "    </tr>\n",
              "    <tr>\n",
              "      <th>75%</th>\n",
              "      <td>977.0</td>\n",
              "      <td>218.0</td>\n",
              "      <td>172.0</td>\n",
              "      <td>3.0</td>\n",
              "      <td>3.0</td>\n",
              "      <td>0.0</td>\n",
              "      <td>29242.3</td>\n",
              "      <td>11377.4</td>\n",
              "      <td>0.5</td>\n",
              "      <td>1.0</td>\n",
              "      <td>3.0</td>\n",
              "    </tr>\n",
              "    <tr>\n",
              "      <th>max</th>\n",
              "      <td>9250.0</td>\n",
              "      <td>670.0</td>\n",
              "      <td>231.0</td>\n",
              "      <td>4.0</td>\n",
              "      <td>4.0</td>\n",
              "      <td>9000.0</td>\n",
              "      <td>6196973.5</td>\n",
              "      <td>2562477.7</td>\n",
              "      <td>157.6</td>\n",
              "      <td>1.0</td>\n",
              "      <td>5.0</td>\n",
              "    </tr>\n",
              "  </tbody>\n",
              "</table>\n",
              "</div>"
            ],
            "text/plain": [
              "      Hospital Id ccs_diagnosis_code  ...     Result Payment_Typology\n",
              "count   1041306.0          1043761.0  ...  1043761.0        1043761.0\n",
              "mean        652.5              198.6  ...        0.7              1.9\n",
              "std         669.6              165.5  ...        0.4              0.8\n",
              "min           1.0                1.0  ...        0.0              1.0\n",
              "25%         213.0              108.0  ...        0.0              1.0\n",
              "50%         630.0              159.0  ...        1.0              2.0\n",
              "75%         977.0              218.0  ...        1.0              3.0\n",
              "max        9250.0              670.0  ...        1.0              5.0\n",
              "\n",
              "[8 rows x 11 columns]"
            ]
          },
          "metadata": {
            "tags": []
          },
          "execution_count": 37
        }
      ]
    },
    {
      "cell_type": "markdown",
      "metadata": {
        "id": "oQd9FjhK3voZ"
      },
      "source": [
        "#### 2. Drop NA"
      ]
    },
    {
      "cell_type": "code",
      "metadata": {
        "colab": {
          "base_uri": "https://localhost:8080/"
        },
        "id": "fBvlS8P83voa",
        "outputId": "415b34a6-5786-44b5-81c1-1c312f76db65"
      },
      "source": [
        "df.dropna(inplace=True)\n",
        "df.isnull().any()"
      ],
      "execution_count": 38,
      "outputs": [
        {
          "output_type": "execute_result",
          "data": {
            "text/plain": [
              "Area_Service                             False\n",
              "Hospital County                          False\n",
              "Hospital Id                              False\n",
              "Age                                      False\n",
              "Gender                                   False\n",
              "Cultural_group                           False\n",
              "ethnicity                                False\n",
              "Days_spend_hsptl                         False\n",
              "Admission_type                           False\n",
              "Home or self care,                       False\n",
              "ccs_diagnosis_code                       False\n",
              "ccs_procedure_code                       False\n",
              "apr_drg_description                      False\n",
              "Code_illness                             False\n",
              "Mortality risk                           False\n",
              "Surg_Description                         False\n",
              "Weight_baby                              False\n",
              "Abortion                                 False\n",
              "Emergency dept_yes/No                    False\n",
              "Tot_charg                                False\n",
              "Tot_cost                                 False\n",
              "ratio_of_total_costs_to_total_charges    False\n",
              "Result                                   False\n",
              "Payment_Typology                         False\n",
              "dtype: bool"
            ]
          },
          "metadata": {
            "tags": []
          },
          "execution_count": 38
        }
      ]
    },
    {
      "cell_type": "markdown",
      "metadata": {
        "id": "qN0hulg_3vob"
      },
      "source": [
        "#### 3. Drop Columns"
      ]
    },
    {
      "cell_type": "code",
      "metadata": {
        "id": "rtAH6bXX3voc"
      },
      "source": [
        "df.drop(['Area_Service','Hospital County','Hospital Id','Gender','Cultural_group',\"ethnicity\",\"apr_drg_description\",\"Weight_baby\",'Abortion','Payment_Typology'], axis=1, inplace=True)"
      ],
      "execution_count": 39,
      "outputs": []
    },
    {
      "cell_type": "code",
      "metadata": {
        "colab": {
          "base_uri": "https://localhost:8080/"
        },
        "id": "9dWJ7u9y3vod",
        "outputId": "273b0d71-fbef-442f-ab10-82fa02c6ad3d"
      },
      "source": [
        "df.info()"
      ],
      "execution_count": 40,
      "outputs": [
        {
          "output_type": "stream",
          "text": [
            "<class 'pandas.core.frame.DataFrame'>\n",
            "Int64Index: 1041265 entries, 0 to 1043760\n",
            "Data columns (total 14 columns):\n",
            " #   Column                                 Non-Null Count    Dtype  \n",
            "---  ------                                 --------------    -----  \n",
            " 0   Age                                    1041265 non-null  object \n",
            " 1   Days_spend_hsptl                       1041265 non-null  object \n",
            " 2   Admission_type                         1041265 non-null  object \n",
            " 3   Home or self care,                     1041265 non-null  object \n",
            " 4   ccs_diagnosis_code                     1041265 non-null  int64  \n",
            " 5   ccs_procedure_code                     1041265 non-null  int64  \n",
            " 6   Code_illness                           1041265 non-null  int64  \n",
            " 7   Mortality risk                         1041265 non-null  float64\n",
            " 8   Surg_Description                       1041265 non-null  object \n",
            " 9   Emergency dept_yes/No                  1041265 non-null  object \n",
            " 10  Tot_charg                              1041265 non-null  float64\n",
            " 11  Tot_cost                               1041265 non-null  float64\n",
            " 12  ratio_of_total_costs_to_total_charges  1041265 non-null  float64\n",
            " 13  Result                                 1041265 non-null  int64  \n",
            "dtypes: float64(4), int64(4), object(6)\n",
            "memory usage: 119.2+ MB\n"
          ],
          "name": "stdout"
        }
      ]
    },
    {
      "cell_type": "markdown",
      "metadata": {
        "id": "mvQAKY8LTrIX"
      },
      "source": [
        "###4.Rename Column Names"
      ]
    },
    {
      "cell_type": "code",
      "metadata": {
        "colab": {
          "base_uri": "https://localhost:8080/"
        },
        "id": "C4ajYOMW6M78",
        "outputId": "3c050b64-6a14-4164-c559-f6a7a99fe971"
      },
      "source": [
        "df = df.rename(columns={'Mortality risk':'Mortality_risk',\"Home or self care,\":\"Home_or_self_care\",'Emergency dept_yes/No':'Emergency_dept_yes/No'})\n",
        "df.columns"
      ],
      "execution_count": 41,
      "outputs": [
        {
          "output_type": "execute_result",
          "data": {
            "text/plain": [
              "Index(['Age', 'Days_spend_hsptl', 'Admission_type', 'Home_or_self_care',\n",
              "       'ccs_diagnosis_code', 'ccs_procedure_code', 'Code_illness',\n",
              "       'Mortality_risk', 'Surg_Description', 'Emergency_dept_yes/No',\n",
              "       'Tot_charg', 'Tot_cost', 'ratio_of_total_costs_to_total_charges',\n",
              "       'Result'],\n",
              "      dtype='object')"
            ]
          },
          "metadata": {
            "tags": []
          },
          "execution_count": 41
        }
      ]
    },
    {
      "cell_type": "markdown",
      "metadata": {
        "id": "vVwbUp6k3vod"
      },
      "source": [
        "####5. Converting Columns to Right Datatypes"
      ]
    },
    {
      "cell_type": "code",
      "metadata": {
        "id": "I-_kWELP3voe"
      },
      "source": [
        "df.replace({'Days_spend_hsptl': '120 +'}, 120, inplace=True)\n",
        "df['Mortality_risk'] = df['Mortality_risk'].astype(int)"
      ],
      "execution_count": 42,
      "outputs": []
    },
    {
      "cell_type": "code",
      "metadata": {
        "colab": {
          "base_uri": "https://localhost:8080/",
          "height": 609
        },
        "id": "6ARFh-Y860dE",
        "outputId": "4c06b495-00a8-4f69-bcf8-e4da7fea0b12"
      },
      "source": [
        "df"
      ],
      "execution_count": 43,
      "outputs": [
        {
          "output_type": "execute_result",
          "data": {
            "text/html": [
              "<div>\n",
              "<style scoped>\n",
              "    .dataframe tbody tr th:only-of-type {\n",
              "        vertical-align: middle;\n",
              "    }\n",
              "\n",
              "    .dataframe tbody tr th {\n",
              "        vertical-align: top;\n",
              "    }\n",
              "\n",
              "    .dataframe thead th {\n",
              "        text-align: right;\n",
              "    }\n",
              "</style>\n",
              "<table border=\"1\" class=\"dataframe\">\n",
              "  <thead>\n",
              "    <tr style=\"text-align: right;\">\n",
              "      <th></th>\n",
              "      <th>Age</th>\n",
              "      <th>Days_spend_hsptl</th>\n",
              "      <th>Admission_type</th>\n",
              "      <th>Home_or_self_care</th>\n",
              "      <th>ccs_diagnosis_code</th>\n",
              "      <th>ccs_procedure_code</th>\n",
              "      <th>Code_illness</th>\n",
              "      <th>Mortality_risk</th>\n",
              "      <th>Surg_Description</th>\n",
              "      <th>Emergency_dept_yes/No</th>\n",
              "      <th>Tot_charg</th>\n",
              "      <th>Tot_cost</th>\n",
              "      <th>ratio_of_total_costs_to_total_charges</th>\n",
              "      <th>Result</th>\n",
              "    </tr>\n",
              "  </thead>\n",
              "  <tbody>\n",
              "    <tr>\n",
              "      <th>0</th>\n",
              "      <td>30 to 49</td>\n",
              "      <td>4</td>\n",
              "      <td>Elective</td>\n",
              "      <td>Home or Self Care</td>\n",
              "      <td>122</td>\n",
              "      <td>0</td>\n",
              "      <td>1</td>\n",
              "      <td>1</td>\n",
              "      <td>Medical</td>\n",
              "      <td>Y</td>\n",
              "      <td>5511.95</td>\n",
              "      <td>5582.49</td>\n",
              "      <td>1.012798</td>\n",
              "      <td>1</td>\n",
              "    </tr>\n",
              "    <tr>\n",
              "      <th>1</th>\n",
              "      <td>70 or Older</td>\n",
              "      <td>4</td>\n",
              "      <td>Urgent</td>\n",
              "      <td>Short-term Hospital</td>\n",
              "      <td>197</td>\n",
              "      <td>0</td>\n",
              "      <td>3</td>\n",
              "      <td>2</td>\n",
              "      <td>Medical</td>\n",
              "      <td>Y</td>\n",
              "      <td>4783.20</td>\n",
              "      <td>5162.82</td>\n",
              "      <td>1.079365</td>\n",
              "      <td>1</td>\n",
              "    </tr>\n",
              "    <tr>\n",
              "      <th>2</th>\n",
              "      <td>30 to 49</td>\n",
              "      <td>3</td>\n",
              "      <td>Urgent</td>\n",
              "      <td>Home or Self Care</td>\n",
              "      <td>122</td>\n",
              "      <td>0</td>\n",
              "      <td>1</td>\n",
              "      <td>1</td>\n",
              "      <td>Medical</td>\n",
              "      <td>Y</td>\n",
              "      <td>3829.15</td>\n",
              "      <td>4056.52</td>\n",
              "      <td>1.059379</td>\n",
              "      <td>1</td>\n",
              "    </tr>\n",
              "    <tr>\n",
              "      <th>3</th>\n",
              "      <td>0 to 17</td>\n",
              "      <td>1</td>\n",
              "      <td>Urgent</td>\n",
              "      <td>Home or Self Care</td>\n",
              "      <td>122</td>\n",
              "      <td>0</td>\n",
              "      <td>1</td>\n",
              "      <td>1</td>\n",
              "      <td>Medical</td>\n",
              "      <td>Y</td>\n",
              "      <td>1108.20</td>\n",
              "      <td>1644.75</td>\n",
              "      <td>1.484167</td>\n",
              "      <td>0</td>\n",
              "    </tr>\n",
              "    <tr>\n",
              "      <th>4</th>\n",
              "      <td>70 or Older</td>\n",
              "      <td>3</td>\n",
              "      <td>Elective</td>\n",
              "      <td>Home or Self Care</td>\n",
              "      <td>122</td>\n",
              "      <td>0</td>\n",
              "      <td>2</td>\n",
              "      <td>3</td>\n",
              "      <td>Medical</td>\n",
              "      <td>Y</td>\n",
              "      <td>3418.18</td>\n",
              "      <td>3370.87</td>\n",
              "      <td>0.986161</td>\n",
              "      <td>1</td>\n",
              "    </tr>\n",
              "    <tr>\n",
              "      <th>...</th>\n",
              "      <td>...</td>\n",
              "      <td>...</td>\n",
              "      <td>...</td>\n",
              "      <td>...</td>\n",
              "      <td>...</td>\n",
              "      <td>...</td>\n",
              "      <td>...</td>\n",
              "      <td>...</td>\n",
              "      <td>...</td>\n",
              "      <td>...</td>\n",
              "      <td>...</td>\n",
              "      <td>...</td>\n",
              "      <td>...</td>\n",
              "      <td>...</td>\n",
              "    </tr>\n",
              "    <tr>\n",
              "      <th>1043756</th>\n",
              "      <td>70 or Older</td>\n",
              "      <td>6</td>\n",
              "      <td>Emergency</td>\n",
              "      <td>Skilled Nursing Home</td>\n",
              "      <td>106</td>\n",
              "      <td>29</td>\n",
              "      <td>2</td>\n",
              "      <td>3</td>\n",
              "      <td>Medical</td>\n",
              "      <td>Y</td>\n",
              "      <td>69650.41</td>\n",
              "      <td>13896.82</td>\n",
              "      <td>0.199522</td>\n",
              "      <td>1</td>\n",
              "    </tr>\n",
              "    <tr>\n",
              "      <th>1043757</th>\n",
              "      <td>0 to 17</td>\n",
              "      <td>2</td>\n",
              "      <td>Emergency</td>\n",
              "      <td>Home or Self Care</td>\n",
              "      <td>8</td>\n",
              "      <td>231</td>\n",
              "      <td>2</td>\n",
              "      <td>1</td>\n",
              "      <td>Medical</td>\n",
              "      <td>N</td>\n",
              "      <td>13587.38</td>\n",
              "      <td>3918.35</td>\n",
              "      <td>0.288382</td>\n",
              "      <td>1</td>\n",
              "    </tr>\n",
              "    <tr>\n",
              "      <th>1043758</th>\n",
              "      <td>50 to 69</td>\n",
              "      <td>13</td>\n",
              "      <td>Emergency</td>\n",
              "      <td>Medicare Cert Long Term Care Hospital</td>\n",
              "      <td>151</td>\n",
              "      <td>88</td>\n",
              "      <td>4</td>\n",
              "      <td>4</td>\n",
              "      <td>Medical</td>\n",
              "      <td>Y</td>\n",
              "      <td>104629.78</td>\n",
              "      <td>24746.64</td>\n",
              "      <td>0.236516</td>\n",
              "      <td>0</td>\n",
              "    </tr>\n",
              "    <tr>\n",
              "      <th>1043759</th>\n",
              "      <td>30 to 49</td>\n",
              "      <td>2</td>\n",
              "      <td>Emergency</td>\n",
              "      <td>Home or Self Care</td>\n",
              "      <td>143</td>\n",
              "      <td>86</td>\n",
              "      <td>1</td>\n",
              "      <td>1</td>\n",
              "      <td>Surgical</td>\n",
              "      <td>Y</td>\n",
              "      <td>27521.41</td>\n",
              "      <td>6766.04</td>\n",
              "      <td>0.245846</td>\n",
              "      <td>1</td>\n",
              "    </tr>\n",
              "    <tr>\n",
              "      <th>1043760</th>\n",
              "      <td>50 to 69</td>\n",
              "      <td>2</td>\n",
              "      <td>Emergency</td>\n",
              "      <td>Home or Self Care</td>\n",
              "      <td>106</td>\n",
              "      <td>0</td>\n",
              "      <td>1</td>\n",
              "      <td>1</td>\n",
              "      <td>Medical</td>\n",
              "      <td>Y</td>\n",
              "      <td>24832.23</td>\n",
              "      <td>4974.66</td>\n",
              "      <td>0.200331</td>\n",
              "      <td>1</td>\n",
              "    </tr>\n",
              "  </tbody>\n",
              "</table>\n",
              "<p>1041265 rows × 14 columns</p>\n",
              "</div>"
            ],
            "text/plain": [
              "                 Age  ... Result\n",
              "0           30 to 49  ...      1\n",
              "1        70 or Older  ...      1\n",
              "2           30 to 49  ...      1\n",
              "3            0 to 17  ...      0\n",
              "4        70 or Older  ...      1\n",
              "...              ...  ...    ...\n",
              "1043756  70 or Older  ...      1\n",
              "1043757      0 to 17  ...      1\n",
              "1043758     50 to 69  ...      0\n",
              "1043759     30 to 49  ...      1\n",
              "1043760     50 to 69  ...      1\n",
              "\n",
              "[1041265 rows x 14 columns]"
            ]
          },
          "metadata": {
            "tags": []
          },
          "execution_count": 43
        }
      ]
    },
    {
      "cell_type": "markdown",
      "metadata": {
        "id": "bF3bqNFS3vof"
      },
      "source": [
        "###6. Label Encoding"
      ]
    },
    {
      "cell_type": "code",
      "metadata": {
        "id": "tyvBBDqr3vof"
      },
      "source": [
        "from sklearn.preprocessing import LabelEncoder\n",
        "labelencoder = LabelEncoder()"
      ],
      "execution_count": 44,
      "outputs": []
    },
    {
      "cell_type": "code",
      "metadata": {
        "id": "Pvz_Yypb3vog"
      },
      "source": [
        "df['Age']  = labelencoder.fit_transform(df['Age'])\n",
        "df['Admission_type'] = labelencoder.fit_transform(df['Admission_type'])\n",
        "df['Home_or_self_care'] = labelencoder.fit_transform(df['Home_or_self_care'])\n",
        "df['Surg_Description'] = labelencoder.fit_transform(df['Surg_Description'])\n",
        "df['Emergency_dept_yes/No'] = labelencoder.fit_transform(df['Emergency_dept_yes/No'])"
      ],
      "execution_count": 45,
      "outputs": []
    },
    {
      "cell_type": "code",
      "metadata": {
        "colab": {
          "base_uri": "https://localhost:8080/",
          "height": 472
        },
        "id": "ip9pZ6oxwqG_",
        "outputId": "a91ad5bc-1011-44cf-d865-41132e6600ab"
      },
      "source": [
        "df.corr()"
      ],
      "execution_count": 46,
      "outputs": [
        {
          "output_type": "execute_result",
          "data": {
            "text/html": [
              "<div>\n",
              "<style scoped>\n",
              "    .dataframe tbody tr th:only-of-type {\n",
              "        vertical-align: middle;\n",
              "    }\n",
              "\n",
              "    .dataframe tbody tr th {\n",
              "        vertical-align: top;\n",
              "    }\n",
              "\n",
              "    .dataframe thead th {\n",
              "        text-align: right;\n",
              "    }\n",
              "</style>\n",
              "<table border=\"1\" class=\"dataframe\">\n",
              "  <thead>\n",
              "    <tr style=\"text-align: right;\">\n",
              "      <th></th>\n",
              "      <th>Age</th>\n",
              "      <th>Admission_type</th>\n",
              "      <th>Home_or_self_care</th>\n",
              "      <th>ccs_diagnosis_code</th>\n",
              "      <th>ccs_procedure_code</th>\n",
              "      <th>Code_illness</th>\n",
              "      <th>Mortality_risk</th>\n",
              "      <th>Surg_Description</th>\n",
              "      <th>Emergency_dept_yes/No</th>\n",
              "      <th>Tot_charg</th>\n",
              "      <th>Tot_cost</th>\n",
              "      <th>ratio_of_total_costs_to_total_charges</th>\n",
              "      <th>Result</th>\n",
              "    </tr>\n",
              "  </thead>\n",
              "  <tbody>\n",
              "    <tr>\n",
              "      <th>Age</th>\n",
              "      <td>1.000000</td>\n",
              "      <td>-0.109385</td>\n",
              "      <td>0.302961</td>\n",
              "      <td>-0.223039</td>\n",
              "      <td>-0.119909</td>\n",
              "      <td>0.413520</td>\n",
              "      <td>0.498528</td>\n",
              "      <td>0.092201</td>\n",
              "      <td>0.342891</td>\n",
              "      <td>0.099697</td>\n",
              "      <td>0.084832</td>\n",
              "      <td>-0.049608</td>\n",
              "      <td>0.001983</td>\n",
              "    </tr>\n",
              "    <tr>\n",
              "      <th>Admission_type</th>\n",
              "      <td>-0.109385</td>\n",
              "      <td>1.000000</td>\n",
              "      <td>-0.040385</td>\n",
              "      <td>0.012607</td>\n",
              "      <td>-0.002615</td>\n",
              "      <td>0.019216</td>\n",
              "      <td>0.013942</td>\n",
              "      <td>-0.163797</td>\n",
              "      <td>-0.076151</td>\n",
              "      <td>-0.031345</td>\n",
              "      <td>-0.022222</td>\n",
              "      <td>0.022305</td>\n",
              "      <td>-0.001403</td>\n",
              "    </tr>\n",
              "    <tr>\n",
              "      <th>Home_or_self_care</th>\n",
              "      <td>0.302961</td>\n",
              "      <td>-0.040385</td>\n",
              "      <td>1.000000</td>\n",
              "      <td>-0.070088</td>\n",
              "      <td>-0.000530</td>\n",
              "      <td>0.241575</td>\n",
              "      <td>0.243000</td>\n",
              "      <td>0.023579</td>\n",
              "      <td>0.142063</td>\n",
              "      <td>0.107349</td>\n",
              "      <td>0.096862</td>\n",
              "      <td>-0.012959</td>\n",
              "      <td>0.000477</td>\n",
              "    </tr>\n",
              "    <tr>\n",
              "      <th>ccs_diagnosis_code</th>\n",
              "      <td>-0.223039</td>\n",
              "      <td>0.012607</td>\n",
              "      <td>-0.070088</td>\n",
              "      <td>1.000000</td>\n",
              "      <td>0.051307</td>\n",
              "      <td>-0.181906</td>\n",
              "      <td>-0.269338</td>\n",
              "      <td>-0.148600</td>\n",
              "      <td>-0.100412</td>\n",
              "      <td>-0.076322</td>\n",
              "      <td>-0.041976</td>\n",
              "      <td>0.030690</td>\n",
              "      <td>0.000317</td>\n",
              "    </tr>\n",
              "    <tr>\n",
              "      <th>ccs_procedure_code</th>\n",
              "      <td>-0.119909</td>\n",
              "      <td>-0.002615</td>\n",
              "      <td>-0.000530</td>\n",
              "      <td>0.051307</td>\n",
              "      <td>1.000000</td>\n",
              "      <td>0.013522</td>\n",
              "      <td>-0.035020</td>\n",
              "      <td>0.047185</td>\n",
              "      <td>-0.170406</td>\n",
              "      <td>0.025710</td>\n",
              "      <td>0.034001</td>\n",
              "      <td>0.017527</td>\n",
              "      <td>-0.000441</td>\n",
              "    </tr>\n",
              "    <tr>\n",
              "      <th>Code_illness</th>\n",
              "      <td>0.413520</td>\n",
              "      <td>0.019216</td>\n",
              "      <td>0.241575</td>\n",
              "      <td>-0.181906</td>\n",
              "      <td>0.013522</td>\n",
              "      <td>1.000000</td>\n",
              "      <td>0.635410</td>\n",
              "      <td>-0.084941</td>\n",
              "      <td>0.307177</td>\n",
              "      <td>0.290234</td>\n",
              "      <td>0.246470</td>\n",
              "      <td>-0.033883</td>\n",
              "      <td>0.002065</td>\n",
              "    </tr>\n",
              "    <tr>\n",
              "      <th>Mortality_risk</th>\n",
              "      <td>0.498528</td>\n",
              "      <td>0.013942</td>\n",
              "      <td>0.243000</td>\n",
              "      <td>-0.269338</td>\n",
              "      <td>-0.035020</td>\n",
              "      <td>0.635410</td>\n",
              "      <td>1.000000</td>\n",
              "      <td>-0.068615</td>\n",
              "      <td>0.294515</td>\n",
              "      <td>0.221497</td>\n",
              "      <td>0.181717</td>\n",
              "      <td>-0.036955</td>\n",
              "      <td>0.002483</td>\n",
              "    </tr>\n",
              "    <tr>\n",
              "      <th>Surg_Description</th>\n",
              "      <td>0.092201</td>\n",
              "      <td>-0.163797</td>\n",
              "      <td>0.023579</td>\n",
              "      <td>-0.148600</td>\n",
              "      <td>0.047185</td>\n",
              "      <td>-0.084941</td>\n",
              "      <td>-0.068615</td>\n",
              "      <td>1.000000</td>\n",
              "      <td>-0.277383</td>\n",
              "      <td>0.210457</td>\n",
              "      <td>0.192765</td>\n",
              "      <td>-0.010672</td>\n",
              "      <td>-0.002039</td>\n",
              "    </tr>\n",
              "    <tr>\n",
              "      <th>Emergency_dept_yes/No</th>\n",
              "      <td>0.342891</td>\n",
              "      <td>-0.076151</td>\n",
              "      <td>0.142063</td>\n",
              "      <td>-0.100412</td>\n",
              "      <td>-0.170406</td>\n",
              "      <td>0.307177</td>\n",
              "      <td>0.294515</td>\n",
              "      <td>-0.277383</td>\n",
              "      <td>1.000000</td>\n",
              "      <td>0.010675</td>\n",
              "      <td>-0.009997</td>\n",
              "      <td>-0.049358</td>\n",
              "      <td>0.002676</td>\n",
              "    </tr>\n",
              "    <tr>\n",
              "      <th>Tot_charg</th>\n",
              "      <td>0.099697</td>\n",
              "      <td>-0.031345</td>\n",
              "      <td>0.107349</td>\n",
              "      <td>-0.076322</td>\n",
              "      <td>0.025710</td>\n",
              "      <td>0.290234</td>\n",
              "      <td>0.221497</td>\n",
              "      <td>0.210457</td>\n",
              "      <td>0.010675</td>\n",
              "      <td>1.000000</td>\n",
              "      <td>0.723527</td>\n",
              "      <td>-0.043142</td>\n",
              "      <td>-0.001055</td>\n",
              "    </tr>\n",
              "    <tr>\n",
              "      <th>Tot_cost</th>\n",
              "      <td>0.084832</td>\n",
              "      <td>-0.022222</td>\n",
              "      <td>0.096862</td>\n",
              "      <td>-0.041976</td>\n",
              "      <td>0.034001</td>\n",
              "      <td>0.246470</td>\n",
              "      <td>0.181717</td>\n",
              "      <td>0.192765</td>\n",
              "      <td>-0.009997</td>\n",
              "      <td>0.723527</td>\n",
              "      <td>1.000000</td>\n",
              "      <td>0.421115</td>\n",
              "      <td>-0.001400</td>\n",
              "    </tr>\n",
              "    <tr>\n",
              "      <th>ratio_of_total_costs_to_total_charges</th>\n",
              "      <td>-0.049608</td>\n",
              "      <td>0.022305</td>\n",
              "      <td>-0.012959</td>\n",
              "      <td>0.030690</td>\n",
              "      <td>0.017527</td>\n",
              "      <td>-0.033883</td>\n",
              "      <td>-0.036955</td>\n",
              "      <td>-0.010672</td>\n",
              "      <td>-0.049358</td>\n",
              "      <td>-0.043142</td>\n",
              "      <td>0.421115</td>\n",
              "      <td>1.000000</td>\n",
              "      <td>0.000465</td>\n",
              "    </tr>\n",
              "    <tr>\n",
              "      <th>Result</th>\n",
              "      <td>0.001983</td>\n",
              "      <td>-0.001403</td>\n",
              "      <td>0.000477</td>\n",
              "      <td>0.000317</td>\n",
              "      <td>-0.000441</td>\n",
              "      <td>0.002065</td>\n",
              "      <td>0.002483</td>\n",
              "      <td>-0.002039</td>\n",
              "      <td>0.002676</td>\n",
              "      <td>-0.001055</td>\n",
              "      <td>-0.001400</td>\n",
              "      <td>0.000465</td>\n",
              "      <td>1.000000</td>\n",
              "    </tr>\n",
              "  </tbody>\n",
              "</table>\n",
              "</div>"
            ],
            "text/plain": [
              "                                            Age  ...    Result\n",
              "Age                                    1.000000  ...  0.001983\n",
              "Admission_type                        -0.109385  ... -0.001403\n",
              "Home_or_self_care                      0.302961  ...  0.000477\n",
              "ccs_diagnosis_code                    -0.223039  ...  0.000317\n",
              "ccs_procedure_code                    -0.119909  ... -0.000441\n",
              "Code_illness                           0.413520  ...  0.002065\n",
              "Mortality_risk                         0.498528  ...  0.002483\n",
              "Surg_Description                       0.092201  ... -0.002039\n",
              "Emergency_dept_yes/No                  0.342891  ...  0.002676\n",
              "Tot_charg                              0.099697  ... -0.001055\n",
              "Tot_cost                               0.084832  ... -0.001400\n",
              "ratio_of_total_costs_to_total_charges -0.049608  ...  0.000465\n",
              "Result                                 0.001983  ...  1.000000\n",
              "\n",
              "[13 rows x 13 columns]"
            ]
          },
          "metadata": {
            "tags": []
          },
          "execution_count": 46
        }
      ]
    },
    {
      "cell_type": "code",
      "metadata": {
        "colab": {
          "base_uri": "https://localhost:8080/"
        },
        "id": "cjMiVXwUTiW1",
        "outputId": "5eaefd5c-6fdb-4792-ed48-ba1c4a39784f"
      },
      "source": [
        "df['Result'].value_counts()"
      ],
      "execution_count": 47,
      "outputs": [
        {
          "output_type": "execute_result",
          "data": {
            "text/plain": [
              "1    780361\n",
              "0    260904\n",
              "Name: Result, dtype: int64"
            ]
          },
          "metadata": {
            "tags": []
          },
          "execution_count": 47
        }
      ]
    },
    {
      "cell_type": "code",
      "metadata": {
        "colab": {
          "base_uri": "https://localhost:8080/",
          "height": 279
        },
        "id": "erHOmBjTURq_",
        "outputId": "f3213c3d-fb18-4616-9690-3a6fcb277048"
      },
      "source": [
        "g = sns.countplot(df['Result'])\n",
        "g.set_xticklabels(['Fraud','Genuine'])\n",
        "plt.show()"
      ],
      "execution_count": 48,
      "outputs": [
        {
          "output_type": "display_data",
          "data": {
            "image/png": "[encoded data removed]",
            "text/plain": [
              "<Figure size 432x288 with 1 Axes>"
            ]
          },
          "metadata": {
            "tags": [],
            "needs_background": "light"
          }
        }
      ]
    },
    {
      "cell_type": "markdown",
      "metadata": {
        "id": "TjwZrwmqOCZ0"
      },
      "source": [
        "##Assigning X and Y on Variable"
      ]
    },
    {
      "cell_type": "code",
      "metadata": {
        "id": "KEPh__Mg_yKp"
      },
      "source": [
        "X = df.drop(['Result'],axis=1)\n",
        "Y = df.Result"
      ],
      "execution_count": 49,
      "outputs": []
    },
    {
      "cell_type": "markdown",
      "metadata": {
        "id": "-6F6r5_DTSAq"
      },
      "source": [
        "##Oversampling Complete Dataset using SMOTETomek"
      ]
    },
    {
      "cell_type": "code",
      "metadata": {
        "id": "-EiN-isPs8LN"
      },
      "source": [
        "from imblearn.combine import SMOTETomek\n",
        "smt = SMOTETomek(ratio=\"auto\",random_state=42)\n",
        "X_smt, Y_smt = smt.fit_sample(X,Y)"
      ],
      "execution_count": 50,
      "outputs": []
    },
    {
      "cell_type": "code",
      "metadata": {
        "colab": {
          "base_uri": "https://localhost:8080/"
        },
        "id": "vmr75icgqK8X",
        "outputId": "d41e1125-9074-44b4-c749-f24cf26873b0"
      },
      "source": [
        "unique, count = np.unique(Y_smt, return_counts=True)\n",
        "count"
      ],
      "execution_count": 51,
      "outputs": [
        {
          "output_type": "execute_result",
          "data": {
            "text/plain": [
              "array([718461, 718461])"
            ]
          },
          "metadata": {
            "tags": []
          },
          "execution_count": 51
        }
      ]
    },
    {
      "cell_type": "markdown",
      "metadata": {
        "id": "FgyVmq0vs_ZH"
      },
      "source": [
        "##Train Test Split"
      ]
    },
    {
      "cell_type": "code",
      "metadata": {
        "id": "PKQPuQQcqK54"
      },
      "source": [
        "X_train,X_test,Y_train,Y_test = train_test_split(X_smt,Y_smt,test_size=0.2,stratify=Y_smt)"
      ],
      "execution_count": 52,
      "outputs": []
    },
    {
      "cell_type": "code",
      "metadata": {
        "colab": {
          "base_uri": "https://localhost:8080/"
        },
        "id": "dPlm2pu6tB4K",
        "outputId": "95992a42-a1ec-44cd-9605-812b930f05b7"
      },
      "source": [
        "unique, count = np.unique(Y_train,return_counts=True)\n",
        "count"
      ],
      "execution_count": 53,
      "outputs": [
        {
          "output_type": "execute_result",
          "data": {
            "text/plain": [
              "array([574769, 574768])"
            ]
          },
          "metadata": {
            "tags": []
          },
          "execution_count": 53
        }
      ]
    },
    {
      "cell_type": "markdown",
      "metadata": {
        "id": "JvVFA25Y3vo4"
      },
      "source": [
        "#**Model Building**"
      ]
    },
    {
      "cell_type": "markdown",
      "metadata": {
        "id": "AKD0dhQWxF2Y"
      },
      "source": [
        "##**Random Forest Classifier**"
      ]
    },
    {
      "cell_type": "code",
      "metadata": {
        "colab": {
          "base_uri": "https://localhost:8080/"
        },
        "id": "o9PmC35luB6O",
        "outputId": "470c2ea1-ce74-4ceb-d79f-bb7f92e0d568"
      },
      "source": [
        "Model = RandomForestClassifier(n_estimators=13,max_features=6,min_samples_leaf=6,min_samples_split=5,n_jobs=-1)\n",
        "Model.fit(X_train,Y_train)"
      ],
      "execution_count": 54,
      "outputs": [
        {
          "output_type": "execute_result",
          "data": {
            "text/plain": [
              "RandomForestClassifier(bootstrap=True, ccp_alpha=0.0, class_weight=None,\n",
              "                       criterion='gini', max_depth=None, max_features=6,\n",
              "                       max_leaf_nodes=None, max_samples=None,\n",
              "                       min_impurity_decrease=0.0, min_impurity_split=None,\n",
              "                       min_samples_leaf=6, min_samples_split=5,\n",
              "                       min_weight_fraction_leaf=0.0, n_estimators=13, n_jobs=-1,\n",
              "                       oob_score=False, random_state=None, verbose=0,\n",
              "                       warm_start=False)"
            ]
          },
          "metadata": {
            "tags": []
          },
          "execution_count": 54
        }
      ]
    },
    {
      "cell_type": "code",
      "metadata": {
        "colab": {
          "base_uri": "https://localhost:8080/"
        },
        "id": "zRIDwBYXxywx",
        "outputId": "34391b94-8cae-4de7-c69f-e76a442ab7ad"
      },
      "source": [
        "Y_train_pred = Model.predict(X_train)\n",
        "print(classification_report(Y_train,Y_train_pred))"
      ],
      "execution_count": 55,
      "outputs": [
        {
          "output_type": "stream",
          "text": [
            "              precision    recall  f1-score   support\n",
            "\n",
            "           0       0.98      0.75      0.85    574769\n",
            "           1       0.80      0.99      0.88    574768\n",
            "\n",
            "    accuracy                           0.87   1149537\n",
            "   macro avg       0.89      0.87      0.87   1149537\n",
            "weighted avg       0.89      0.87      0.87   1149537\n",
            "\n"
          ],
          "name": "stdout"
        }
      ]
    },
    {
      "cell_type": "code",
      "metadata": {
        "colab": {
          "base_uri": "https://localhost:8080/"
        },
        "id": "9JAYLeIjuB3A",
        "outputId": "318abdc4-4a28-49e5-8da6-27984a446b78"
      },
      "source": [
        "Y_pred = Model.predict(X_test)\n",
        "print(classification_report(Y_test,Y_pred))"
      ],
      "execution_count": 56,
      "outputs": [
        {
          "output_type": "stream",
          "text": [
            "              precision    recall  f1-score   support\n",
            "\n",
            "           0       0.95      0.68      0.79    143692\n",
            "           1       0.75      0.96      0.84    143693\n",
            "\n",
            "    accuracy                           0.82    287385\n",
            "   macro avg       0.85      0.82      0.82    287385\n",
            "weighted avg       0.85      0.82      0.82    287385\n",
            "\n"
          ],
          "name": "stdout"
        }
      ]
    },
    {
      "cell_type": "markdown",
      "metadata": {
        "id": "dXrxIPnhkuYS"
      },
      "source": [
        "#**Model Building on Complete Dataset**"
      ]
    },
    {
      "cell_type": "code",
      "metadata": {
        "colab": {
          "base_uri": "https://localhost:8080/"
        },
        "id": "PQjyPvoCk15i",
        "outputId": "f653cd2f-518d-4f68-cfe7-13630da5dbeb"
      },
      "source": [
        "Model_final = RandomForestClassifier(n_estimators=13,max_features=6,min_samples_leaf=6,min_samples_split=5,n_jobs=-1)\n",
        "Model_final.fit(X_smt,Y_smt)"
      ],
      "execution_count": 57,
      "outputs": [
        {
          "output_type": "execute_result",
          "data": {
            "text/plain": [
              "RandomForestClassifier(bootstrap=True, ccp_alpha=0.0, class_weight=None,\n",
              "                       criterion='gini', max_depth=None, max_features=6,\n",
              "                       max_leaf_nodes=None, max_samples=None,\n",
              "                       min_impurity_decrease=0.0, min_impurity_split=None,\n",
              "                       min_samples_leaf=6, min_samples_split=5,\n",
              "                       min_weight_fraction_leaf=0.0, n_estimators=13, n_jobs=-1,\n",
              "                       oob_score=False, random_state=None, verbose=0,\n",
              "                       warm_start=False)"
            ]
          },
          "metadata": {
            "tags": []
          },
          "execution_count": 57
        }
      ]
    },
    {
      "cell_type": "markdown",
      "metadata": {
        "id": "Hf1nRWquScLr"
      },
      "source": [
        "##Save Model"
      ]
    },
    {
      "cell_type": "code",
      "metadata": {
        "id": "a_F0yBnFCwNe",
        "colab": {
          "base_uri": "https://localhost:8080/"
        },
        "outputId": "5aad8929-2745-4430-cac2-e0aaac4dcf88"
      },
      "source": [
        "import joblib\n",
        "#Serialize the model and save\n",
        "from sklearn.externals import joblib\n",
        "joblib.dump(Model_final, 'RFModel.joblib',0)"
      ],
      "execution_count": 58,
      "outputs": [
        {
          "output_type": "execute_result",
          "data": {
            "text/plain": [
              "['RFModel.joblib']"
            ]
          },
          "metadata": {
            "tags": []
          },
          "execution_count": 58
        }
      ]
    },
    {
      "cell_type": "code",
      "metadata": {
        "id": "mIicxC2BB5Cl"
      },
      "source": [
        "import pickle\n",
        "with open('Model_final.joblib','wb') as f:\n",
        "  pickle.dump(Model_final,f,-1)"
      ],
      "execution_count": 59,
      "outputs": []
    }
  ]
}